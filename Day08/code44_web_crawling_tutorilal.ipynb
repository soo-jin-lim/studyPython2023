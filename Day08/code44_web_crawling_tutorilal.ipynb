{
 "cells": [
  {
   "attachments": {},
   "cell_type": "markdown",
   "metadata": {},
   "source": [
    "## 웹 크롤링\n",
    "\n",
    "### 인터넷 접속 라이브러리 추가"
   ]
  },
  {
   "cell_type": "code",
   "execution_count": 13,
   "metadata": {},
   "outputs": [
    {
     "name": "stdout",
     "output_type": "stream",
     "text": [
      "부산의 현재기온은 9.7˚C 입니다\n",
      "부산의 현재 습도는 36% 입니다.\n"
     ]
    }
   ],
   "source": [
    "from urllib.request import urlopen, Request\n",
    "\n",
    "#도시별 날씨 검색함수\n",
    "def get_weather(city):\n",
    "    # 기상청 홈페이지 도시별 날씨\n",
    "    url = 'https://www.weather.go.kr/w/obs-climate/land/city-obs.do'\n",
    "    page =  urlopen(url=url)\n",
    "\n",
    "    text= page.read().decode('utf-8')\n",
    "    text=text[text.find(f'>{city}</a'):]\n",
    "    # 기온 가져오기\n",
    "    for i in range(7):\n",
    "        text= text[text.find('<td>')+1:]\n",
    "        \n",
    "    start=3\n",
    "    end=text.find('</td>')\n",
    "    current_temp= text[start:end]\n",
    "    print(f'{city}의 현재기온은 {current_temp}˚C 입니다')\n",
    "\n",
    "    #습도 가져오기\n",
    "    for i in range(3):\n",
    "        text= text[text.find('<td>')+1:]\n",
    "        \n",
    "    start=3\n",
    "    end=text.find('</td>')\n",
    "    current_temp= text[start:end]\n",
    "    print(f'{city}의 현재 습도는 {current_temp}% 입니다.')\n",
    "\n",
    "\n",
    "get_weather('부산')"
   ]
  },
  {
   "attachments": {},
   "cell_type": "markdown",
   "metadata": {},
   "source": [
    "### OpenAIP 크롤링\n",
    "\n",
    "- 공공데이터 포털\n",
    "    - http://www.data.go.kr\n",
    "    - 부산광역시 버스정보안내기 현황"
   ]
  },
  {
   "cell_type": "code",
   "execution_count": 35,
   "metadata": {},
   "outputs": [
    {
     "name": "stdout",
     "output_type": "stream",
     "text": [
      "{'stationNum': '09283', 'stationLoc': '롯데백화점센텀시티점', 'lat': '35.16967324', 'lng': '129.1317843', 'addr': '해운대구 우동 1496', 'insYear': '', 'dataDay': '2023-02-03'}\n",
      "{'stationNum': '09336', 'stationLoc': '롯데백화점센텀시티점', 'lat': '35.16997953', 'lng': '129.1320357', 'addr': '해운대구 우동 1498', 'insYear': '', 'dataDay': '2023-02-03'}\n",
      "{'stationNum': '06030', 'stationLoc': '롯데백화점동래점.명륜역', 'lat': '35.21276314', 'lng': '129.0781263', 'addr': '동래구 온천1동 474-25', 'insYear': '', 'dataDay': '2023-02-03'}\n",
      "{'stationNum': '06046', 'stationLoc': '롯데백화점동래점', 'lat': '35.2101971', 'lng': '129.0778307', 'addr': '동래구 온천2동 503-46', 'insYear': '', 'dataDay': '2023-02-03'}\n"
     ]
    },
    {
     "name": "stderr",
     "output_type": "stream",
     "text": [
      "c:\\source\\studyPython2023\\venv\\Lib\\site-packages\\urllib3\\connectionpool.py:1045: InsecureRequestWarning: Unverified HTTPS request is being made to host 'apis.data.go.kr'. Adding certificate verification is strongly advised. See: https://urllib3.readthedocs.io/en/1.26.x/advanced-usage.html#ssl-warnings\n",
      "  warnings.warn(\n"
     ]
    }
   ],
   "source": [
    "import requests\n",
    "from urllib.request import urlopen, Request\n",
    "from urllib.parse import quote,unquote,urlencode # 한글 URLencode 변환하는 함수\n",
    "import json\n",
    "import ssl\n",
    "\n",
    "def getRequestUrl(url):\n",
    "    req = Request(url)\n",
    "\n",
    "    try:\n",
    "        res=urlopen(req)\n",
    "        if res.getcode()==200:\n",
    "            return res.read().decode('utf-8')\n",
    "    except Exception as e:\n",
    "        print()\n",
    "        return None\n",
    "\n",
    "# stationName 정류소이름 \n",
    "def getDataPortalSearch(stationName, type):\n",
    "    api_url = 'https://apis.data.go.kr/6260000/BusanTblBusinfoeqStusService/getTblBusinfoeqStusInfo'\n",
    "    queryString = \"?\" + urlencode(\n",
    "\n",
    "        {\n",
    "            'serviceKey' : 'jmhj4AySTfuqupZqy/HnxlkTQs+iGPx391UTg2b1LoaAHtc6FzkpEnmerQYc5Oxvkb2klHsgnoTKB3nI0XllFg==',\n",
    "            'pageNo' : '1',\n",
    "            'numOfRows' : '10',\n",
    "            'resultType' : type,\n",
    "            'stationLoc' : stationName\n",
    "\n",
    "        }\n",
    "    )\n",
    "    total_url= api_url+ queryString\n",
    "    response = requests.get(total_url, verify= False)\n",
    "    return response.text\n",
    " \n",
    "\n",
    "result = getDataPortalSearch('롯데백화점', 'json')\n",
    "json_data =  json.loads(result)\n",
    "station_data = json_data['getTblBusinfoeqStusInfo']['body']['items']['item']\n",
    "\n",
    "for item in station_data:\n",
    "    print(item)\n"
   ]
  },
  {
   "attachments": {},
   "cell_type": "markdown",
   "metadata": {},
   "source": [
    "### OpenAPI로 가져온 데이터 지도 표시\n",
    "\n"
   ]
  },
  {
   "cell_type": "code",
   "execution_count": 36,
   "metadata": {},
   "outputs": [
    {
     "ename": "ModuleNotFoundError",
     "evalue": "No module named 'folium'",
     "output_type": "error",
     "traceback": [
      "\u001b[1;31m---------------------------------------------------------------------------\u001b[0m",
      "\u001b[1;31mModuleNotFoundError\u001b[0m                       Traceback (most recent call last)",
      "Cell \u001b[1;32mIn[36], line 1\u001b[0m\n\u001b[1;32m----> 1\u001b[0m \u001b[39mimport\u001b[39;00m \u001b[39mfolium\u001b[39;00m\n\u001b[0;32m      3\u001b[0m \u001b[39mif\u001b[39;00m \u001b[39mlen\u001b[39m(station_data) \u001b[39m>\u001b[39m \u001b[39m0\u001b[39m:\n\u001b[0;32m      4\u001b[0m     center_lat \u001b[39m=\u001b[39m station_data[\u001b[39m0\u001b[39m][\u001b[39m'\u001b[39m\u001b[39mlat\u001b[39m\u001b[39m'\u001b[39m]\n",
      "\u001b[1;31mModuleNotFoundError\u001b[0m: No module named 'folium'"
     ]
    }
   ],
   "source": [
    "import folium\n",
    "\n",
    "if len(station_data) > 0:\n",
    "    center_lat = station_data[0]['lat']\n",
    "    center_lng = station_data[0]['lng']\n",
    "m = folium.Map(location=[center_lat, center_lng], zoom_start=13)\n",
    "\n",
    "for item in station_data:\n",
    "    folium.Marker(location=[item['lat'], item['lng']], popup=item['stationLoc']).add_to(m)\n",
    "m"
   ]
  }
 ],
 "metadata": {
  "kernelspec": {
   "display_name": "venv",
   "language": "python",
   "name": "python3"
  },
  "language_info": {
   "codemirror_mode": {
    "name": "ipython",
    "version": 3
   },
   "file_extension": ".py",
   "mimetype": "text/x-python",
   "name": "python",
   "nbconvert_exporter": "python",
   "pygments_lexer": "ipython3",
   "version": "3.11.1"
  },
  "orig_nbformat": 4,
  "vscode": {
   "interpreter": {
    "hash": "2e858f6a62af7500a4fce304b323919e2ee47672e0170b223d92c0ac73e14920"
   }
  }
 },
 "nbformat": 4,
 "nbformat_minor": 2
}
