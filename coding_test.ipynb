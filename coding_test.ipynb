{
 "cells": [
  {
   "cell_type": "code",
   "execution_count": 11,
   "metadata": {},
   "outputs": [
    {
     "name": "stdout",
     "output_type": "stream",
     "text": [
      "원의 넓이= 78.5\n"
     ]
    }
   ],
   "source": [
    "# 반지름 값을 입력받아 원의 넓이를 구하여 출력하는 프로그램을 구현하세요.\n",
    "# π는 3.141592 입니다. 모듈을 사용하여도 됩니다~!!\n",
    "radius = float(input(\"반지름을 입력하세요:\"))\n",
    "area=3.14*radius**2\n",
    "\n",
    "print(\"원의 넓이=\",area)"
   ]
  },
  {
   "cell_type": "code",
   "execution_count": 21,
   "metadata": {},
   "outputs": [
    {
     "name": "stdout",
     "output_type": "stream",
     "text": [
      "지구\n"
     ]
    }
   ],
   "source": [
    "#태양계는 수성, 금성, 지구, 화성, 목성, 토성, 천왕성, 해왕성으로 구성됩니다.\n",
    "# 영어 이름은 Mercury, Venus, Earth, Mars, Jupiter,  Saturn, Uranus, Neptune 입니다. \n",
    "# 행성의 영어 이름을 입력하면 한글 행성 이름이 출력 되는 프로그램을 구현하세요.\n",
    "\n",
    "planet= {\n",
    "    'Mercury': '수성',\n",
    "    'Venus': '금성',\n",
    "    'Earth': '지구',\n",
    "    'Mars':  '화성' ,\n",
    "    'Jupiter':'목성',\n",
    "    'Saturn':'토성',\n",
    "    'Uranus':'천왕성',\n",
    "    'Neptune':'해왕성'\n",
    "}\n",
    "\n",
    "print(planet[input()])"
   ]
  },
  {
   "cell_type": "code",
   "execution_count": 35,
   "metadata": {},
   "outputs": [
    {
     "name": "stdout",
     "output_type": "stream",
     "text": [
      "7\n",
      "i'm GOING to LEAVE the DOOR open "
     ]
    }
   ],
   "source": [
    "#입력한 영어 문자열의 단어의 수를 출력하고 입력된 단어를 짝수로 대문자로 변경하여 출력하는 프로그램을 구현하세요.\n",
    "# 예) I'm going to leave the door open = 7 / 'm GOING to LEAVE the DOOR open\n",
    "txt = input('문자열 입력: ')\n",
    "txt_tt = txt.split(' ')\n",
    "print(len(txt_tt))\n",
    "if txt != None:\n",
    "    for i in range(0,len(txt_tt)):\n",
    "        if i %2 != 0 :\n",
    "            print(txt_tt[i].upper(), end=' ')\n",
    "        else :\n",
    "            print(txt_tt[i].lower(), end=' ')\n"
   ]
  },
  {
   "cell_type": "code",
   "execution_count": 4,
   "metadata": {},
   "outputs": [
    {
     "name": "stdout",
     "output_type": "stream",
     "text": [
      "54321\n"
     ]
    }
   ],
   "source": [
    "#입력한 수를 거꾸로 출력하는 프로그램을 구현하세요. 예) 1 3 5 7 9 --> 9 7 5 3 1\n",
    "a = int(input())\n",
    "\n",
    "print(int(str(a)[::-1]))"
   ]
  },
  {
   "cell_type": "code",
   "execution_count": 19,
   "metadata": {},
   "outputs": [
    {
     "name": "stdout",
     "output_type": "stream",
     "text": [
      "5\t10\t15\t20\t25\t30\t35\t40\t45\t"
     ]
    }
   ],
   "source": [
    "# 구구단을 수행할 단번호를 입력하면 그 단의 9까지의 결과를 나열하는 프로그램을 입력하세요. 예) 3 --> 3 6 9 12 15 18 21 24 27\n",
    "a = int(input(\"몇 단을 출력하시겠습니까? : \")) \n",
    "for y in range(1, 10): \n",
    "    print(a*y, end='\\t')\n"
   ]
  }
 ],
 "metadata": {
  "kernelspec": {
   "display_name": "venv",
   "language": "python",
   "name": "python3"
  },
  "language_info": {
   "codemirror_mode": {
    "name": "ipython",
    "version": 3
   },
   "file_extension": ".py",
   "mimetype": "text/x-python",
   "name": "python",
   "nbconvert_exporter": "python",
   "pygments_lexer": "ipython3",
   "version": "3.11.1"
  },
  "orig_nbformat": 4,
  "vscode": {
   "interpreter": {
    "hash": "2e858f6a62af7500a4fce304b323919e2ee47672e0170b223d92c0ac73e14920"
   }
  }
 },
 "nbformat": 4,
 "nbformat_minor": 2
}
