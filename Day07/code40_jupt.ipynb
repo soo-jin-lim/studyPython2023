{
 "cells": [
  {
   "attachments": {},
   "cell_type": "markdown",
   "metadata": {},
   "source": [
    "# 주피터 노트북 사용법 학습\n",
    "## 마크다운, 파이썬 셀을 추가\n",
    "- 현재 셀 앞에 추가 : a \n",
    "- 현재 셀 뒤에 추가 : b\n",
    "- 현재 셀을 마크다운으로 변경: 포커스(커서가 깜빡 거리지 않는)만 있는 상태\n",
    "- 현재 셀을 코드 셀로 변경 포커스 상태 : y"
   ]
  },
  {
   "cell_type": "code",
   "execution_count": 1,
   "metadata": {},
   "outputs": [],
   "source": [
    "# 최초 작성된 Python 셀"
   ]
  },
  {
   "attachments": {},
   "cell_type": "markdown",
   "metadata": {},
   "source": [
    "## 파이썬 셀 실행\n",
    "- 셀 실행 : ctrl + Enter\n",
    "- 셀 실행, 다음 셀로 이동 (다음 셀이 없으면 생성) : Shift + Enter\n",
    "- 셀 실행, 다음 셀 생성 : Alt + Enter\n",
    "- 주석처리 : Ctrl + / 또는 Ctrl+ K/C "
   ]
  },
  {
   "cell_type": "code",
   "execution_count": 12,
   "metadata": {},
   "outputs": [
    {
     "name": "stdout",
     "output_type": "stream",
     "text": [
      "Hello Jupyter!!\n"
     ]
    }
   ],
   "source": [
    "print('Hello Jupyter!!')\n",
    "#print('Hello Jupyter!!')\n"
   ]
  },
  {
   "attachments": {},
   "cell_type": "markdown",
   "metadata": {},
   "source": [
    "## 디버깅 !!\n",
    "아무리 강조해도 지나치지 않습니다. "
   ]
  },
  {
   "cell_type": "code",
   "execution_count": 7,
   "metadata": {},
   "outputs": [
    {
     "name": "stdout",
     "output_type": "stream",
     "text": [
      "1\n",
      "2\n",
      "True\n",
      "Hello\n",
      "3.1415926585\n"
     ]
    }
   ],
   "source": [
    "arr = [1,'2',True,'Hello',3.1415926585]\n",
    "\n",
    "for i in arr:\n",
    "    print(i)"
   ]
  },
  {
   "cell_type": "code",
   "execution_count": 9,
   "metadata": {},
   "outputs": [
    {
     "name": "stdout",
     "output_type": "stream",
     "text": [
      "더하기\n",
      "14\n"
     ]
    }
   ],
   "source": [
    "def plus(x,y):\n",
    "    \n",
    "    Val= x+y\n",
    "    return Val\n",
    "def div (x,y):\n",
    "    val = x / y,\n",
    "    return val\n",
    "\n",
    "print('더하기')\n",
    "print(plus(10,4))\n"
   ]
  },
  {
   "cell_type": "code",
   "execution_count": 11,
   "metadata": {},
   "outputs": [
    {
     "name": "stdout",
     "output_type": "stream",
     "text": [
      "[1, '2', True, 'Hello', 3.1415926585]\n"
     ]
    }
   ],
   "source": [
    "print(arr)"
   ]
  },
  {
   "attachments": {},
   "cell_type": "markdown",
   "metadata": {},
   "source": [
    "### list(array) for문 예제"
   ]
  },
  {
   "cell_type": "code",
   "execution_count": null,
   "metadata": {},
   "outputs": [],
   "source": [
    "for i, item in enumerate(arr):\n",
    "    print(f'{i} = {item}')"
   ]
  }
 ],
 "metadata": {
  "kernelspec": {
   "display_name": "venv",
   "language": "python",
   "name": "python3"
  },
  "language_info": {
   "codemirror_mode": {
    "name": "ipython",
    "version": 3
   },
   "file_extension": ".py",
   "mimetype": "text/x-python",
   "name": "python",
   "nbconvert_exporter": "python",
   "pygments_lexer": "ipython3",
   "version": "3.11.1"
  },
  "orig_nbformat": 4,
  "vscode": {
   "interpreter": {
    "hash": "2e858f6a62af7500a4fce304b323919e2ee47672e0170b223d92c0ac73e14920"
   }
  }
 },
 "nbformat": 4,
 "nbformat_minor": 2
}
